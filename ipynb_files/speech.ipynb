{
 "cells": [
  {
   "cell_type": "code",
   "execution_count": 3,
   "metadata": {},
   "outputs": [],
   "source": [
    "import os\n",
    "import speech_recognition as sr"
   ]
  },
  {
   "cell_type": "code",
   "execution_count": null,
   "metadata": {},
   "outputs": [],
   "source": [
    "command2mp3 = \"ffmpeg -i Bolna.mp4 Bolna.mp3\"\n",
    "command2wav = \"ffmpeg -i Bolna.mp3 Bolna.wav\""
   ]
  },
  {
   "cell_type": "code",
   "execution_count": null,
   "metadata": {},
   "outputs": [],
   "source": [
    "os.system(command2mp3)\n",
    "os.system(command2wav)"
   ]
  },
  {
   "cell_type": "code",
   "execution_count": 1,
   "metadata": {},
   "outputs": [],
   "source": [
    "filename=\"Bolna.wav\""
   ]
  },
  {
   "cell_type": "code",
   "execution_count": 4,
   "metadata": {},
   "outputs": [],
   "source": [
    "r=sr.Recognizer()"
   ]
  },
  {
   "cell_type": "code",
   "execution_count": 8,
   "metadata": {},
   "outputs": [
    {
     "name": "stdout",
     "output_type": "stream",
     "text": [
      "Amazon I know firsthand the importance of constantly with your customers that can be that their mutual consent is video UGC as a platform to enable the brand and and analysed for various internet including development and marketing and business development at miljul his rest of the sea\n"
     ]
    }
   ],
   "source": [
    "with sr.AudioFile(filename) as source:\n",
    "    audio_data=r.record(source)\n",
    "    text=r.recognize_google(audio_data)\n",
    "    print(text)"
   ]
  },
  {
   "cell_type": "code",
   "execution_count": 9,
   "metadata": {},
   "outputs": [],
   "source": [
    "command2mp3 = \"ffmpeg -i second.mp4 second.mp3\"\n",
    "command2wav = \"ffmpeg -i second.mp3 second.wav\""
   ]
  },
  {
   "cell_type": "code",
   "execution_count": 10,
   "metadata": {},
   "outputs": [
    {
     "data": {
      "text/plain": [
       "0"
      ]
     },
     "execution_count": 10,
     "metadata": {},
     "output_type": "execute_result"
    }
   ],
   "source": [
    "os.system(command2mp3)\n",
    "os.system(command2wav)"
   ]
  },
  {
   "cell_type": "code",
   "execution_count": 11,
   "metadata": {},
   "outputs": [],
   "source": [
    "filename=\"second.wav\""
   ]
  },
  {
   "cell_type": "code",
   "execution_count": 12,
   "metadata": {},
   "outputs": [
    {
     "name": "stdout",
     "output_type": "stream",
     "text": [
      "janmdin ki aapko bahut bahut badhai ho Waisi Babu abhi mujhe Yad aata hai yaar vah 30 31 sal pahle 91 Mein Chale Ham Tumko Ho Siliguri Mile Aaye the frame Thodi enquiry Kari ke lauda cigaret Pita Hai Kya non veg khata hai Sharab Pita Hai FIR Dekha Sagar dam Nahin Peene Lage Babu Ghara khana Khila Dena love at first sight Ho Gaya Babu Babu Babu Babu\n"
     ]
    }
   ],
   "source": [
    "r=sr.Recognizer()\n",
    "with sr.AudioFile(filename) as source:\n",
    "    audio_data=r.record(source)\n",
    "    text=r.recognize_google(audio_data)\n",
    "    print(text)"
   ]
  },
  {
   "cell_type": "code",
   "execution_count": null,
   "metadata": {},
   "outputs": [],
   "source": []
  }
 ],
 "metadata": {
  "kernelspec": {
   "display_name": "Python 3",
   "language": "python",
   "name": "python3"
  },
  "language_info": {
   "codemirror_mode": {
    "name": "ipython",
    "version": 3
   },
   "file_extension": ".py",
   "mimetype": "text/x-python",
   "name": "python",
   "nbconvert_exporter": "python",
   "pygments_lexer": "ipython3",
   "version": "3.7.6"
  }
 },
 "nbformat": 4,
 "nbformat_minor": 4
}
